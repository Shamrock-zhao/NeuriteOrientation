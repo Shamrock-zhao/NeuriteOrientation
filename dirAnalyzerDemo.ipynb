{
 "cells": [
  {
   "cell_type": "code",
   "execution_count": null,
   "metadata": {
    "collapsed": false
   },
   "outputs": [
    {
     "name": "stdout",
     "output_type": "stream",
     "text": [
      "Populating the interactive namespace from numpy and matplotlib\n"
     ]
    }
   ],
   "source": [
    "%pylab inline\n",
    "pylab.rcParams['figure.figsize'] = 10,10  # that's default image size for this \n",
    "#pylab.rcParams['figure.dpi']=32\n",
    "%load_ext autoreload\n",
    "%autoreload 2\n",
    "#run txtFiletoHistogram.py"
   ]
  },
  {
   "cell_type": "code",
   "execution_count": null,
   "metadata": {
    "collapsed": false,
    "scrolled": true
   },
   "outputs": [
    {
     "name": "stdout",
     "output_type": "stream",
     "text": [
      "Centerline extraction time for file T2_AnkyrinGm_CA1_hippocampus_63X_MAXPROJ_Patch1.png is 0.950529\n",
      "For File T2_AnkyrinGm_CA1_hippocampus_63X_MAXPROJ_Patch1.png centreline + Angle estimation time at scale 0 =(mSize 36, nBands 18) is 22.4298\n",
      "For File T2_AnkyrinGm_CA1_hippocampus_63X_MAXPROJ_Patch1.png centreline + Angle estimation time at scale 1 =(mSize 54, nBands 18) is 47.373889"
     ]
    }
   ],
   "source": [
    "#%%timeit -n4 -r1\n",
    "%run dirAnalyzerDemo.py"
   ]
  },
  {
   "cell_type": "code",
   "execution_count": null,
   "metadata": {
    "collapsed": true
   },
   "outputs": [],
   "source": []
  }
 ],
 "metadata": {
  "kernelspec": {
   "display_name": "Python 2",
   "language": "python",
   "name": "python2"
  },
  "language_info": {
   "codemirror_mode": {
    "name": "ipython",
    "version": 2
   },
   "file_extension": ".py",
   "mimetype": "text/x-python",
   "name": "python",
   "nbconvert_exporter": "python",
   "pygments_lexer": "ipython2",
   "version": "2.7.6"
  }
 },
 "nbformat": 4,
 "nbformat_minor": 0
}

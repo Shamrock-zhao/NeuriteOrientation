{
 "cells": [
  {
   "cell_type": "code",
   "execution_count": null,
   "metadata": {
    "collapsed": true
   },
   "outputs": [],
   "source": [
    "import matplotlib\n",
    "import matplotlib.pyplot as plt\n",
    "from skimage.morphology import disk\n",
    "from skimage import morphology\n",
    "from skimage.filters import threshold_otsu, rank\n",
    "from skimage import io\n",
    "from os.path import isfile, join\n",
    "from os import listdir\n",
    "from skimage.feature import blob_dog, blob_log, blob_doh\n",
    "from skimage.draw import circle\n",
    "import numpy as np\n",
    "\n",
    "%matplotlib inline\n",
    "matplotlib.rcParams['figure.figsize'] = (10.0, 8.0)\n",
    "#pylab.rcParams['figure.figsize'] = 10,10 \n",
    "runBlobdetection = False"
   ]
  },
  {
   "cell_type": "code",
   "execution_count": null,
   "metadata": {
    "collapsed": false
   },
   "outputs": [],
   "source": [
    "dirName = '/home/psnegi/psn/UH/Research/Projects/EdgeOrientation/Data/AngleJData'\n",
    "#dirName = '/home/psnegi/psn/UH/Research/Projects/EdgeOrientation/Data/DentateGyrus'\n",
    "images = [ io.imread(join(dirName,f)) for f in listdir(dirName) if\n",
    "               isfile(join(dirName,f))]\n",
    "names = [ f for f in listdir(dirName) if\n",
    "               isfile(join(dirName,f))]\n",
    "\n",
    "radius = 20\n",
    "smallObjectSz = 80\n",
    "blobSigma= 2*smallObjectSz\n",
    "selem = disk(radius)\n",
    "localOstuImages = []\n",
    "globalOstuImages = []\n",
    "fontSz = 30\n",
    "for img in images:\n",
    "    local_otsu = rank.otsu(img, selem)\n",
    "    threshold_global_otsu = threshold_otsu(img)\n",
    "    \n",
    "    fig, ax = plt.subplots(3, 2, figsize=(45, 45), sharex=True, sharey=True, subplot_kw={'adjustable':'box-forced'})\n",
    "    ax1, ax2, ax3, ax4, ax5, ax6 = ax.ravel()\n",
    "\n",
    "    fig.colorbar(ax1.imshow(img, cmap=plt.cm.gray),\n",
    "             ax=ax1, orientation='horizontal')\n",
    "    ax1.set_title('Original', fontsize=fontSz)\n",
    "    ax1.axis('off')\n",
    "\n",
    "    fig.colorbar(ax2.imshow(local_otsu, cmap=plt.cm.gray),\n",
    "             ax=ax2, orientation='horizontal')\n",
    "    ax2.set_title('Local Otsu (radius={}) threshold map'.format(radius), fontsize=fontSz)\n",
    "    ax2.axis('off')\n",
    "    \n",
    "    localOstu = img >= local_otsu\n",
    "    ax3.imshow(localOstu, cmap=plt.cm.gray)\n",
    "    ax3.set_title('Original >= Local Otsu', fontsize=fontSz)\n",
    "    ax3.axis('off')\n",
    "    \n",
    "    localOstu =morphology.remove_small_objects(localOstu, min_size = smallObjectSz, connectivity=2)\n",
    "    \n",
    "    ax4.imshow(localOstu, cmap=plt.cm.gray)\n",
    "    ax4.set_title('Original >= Local Otsu after removing small object of size {}'.format(smallObjectSz), fontsize=fontSz)\n",
    "    ax4.axis('off')\n",
    "    localOstuImages.append(localOstu)\n",
    "    \n",
    "    global_otsu = img >= threshold_global_otsu\n",
    "    \n",
    "    ax5.imshow(global_otsu, cmap=plt.cm.gray)\n",
    "    ax5.set_title('Global Otsu (threshold = {})'.format(threshold_global_otsu), fontsize=fontSz)\n",
    "    ax5.axis('off')\n",
    "    \n",
    "    global_otsu=morphology.remove_small_objects(global_otsu, min_size = smallObjectSz, connectivity=2)\n",
    "    ax6.imshow(global_otsu, cmap=plt.cm.gray)\n",
    "    ax6.set_title('Global Otsu (threshold = {}) after removing small object of size {}'.format(threshold_global_otsu,smallObjectSz), fontsize=fontSz)\n",
    "    ax6.axis('off')\n",
    "    globalOstuImages.append(global_otsu)\n",
    "    \n",
    "plt.show()\n",
    "\n",
    "    "
   ]
  },
  {
   "cell_type": "markdown",
   "metadata": {},
   "source": [
    "# blob removal (make condition True if  required for blob removal)\n",
    "**Note range of sigma play a critical role in blob detection**"
   ]
  },
  {
   "cell_type": "code",
   "execution_count": null,
   "metadata": {
    "collapsed": true
   },
   "outputs": [],
   "source": [
    "def removeBlobs(imagesWithBlob):    \n",
    "    minSigma = [20, 20,60]\n",
    "    maxSigma = [40, 40, 90]\n",
    "    imageSeq = zip(minSigma, maxSigma, imagesWithBlob)\n",
    "    cleanImages = []\n",
    "    for minSig, maxSig, image in imageSeq:\n",
    "        blobs_doh = blob_log(image, min_sigma=minSig , max_sigma=maxSig, num_sigma=3, threshold=.1)\n",
    "    # Compute radii in the 3rd column.\n",
    "        fig, ax = plt.subplots(1, 1)\n",
    "        #ax.set_title(title)\n",
    "        ax.imshow(image, interpolation='nearest')\n",
    "        for blob in blobs_doh:\n",
    "            y, x, r = blob\n",
    "            c = plt.Circle((x, y), r, color='yellow', linewidth=2, fill=False)\n",
    "            ax.add_patch(c)\n",
    "            rr, cc = circle(y, x, r)\n",
    "            for x , y in zip(rr, cc):\n",
    "                if x< image.shape[0] and y < image.shape[1]:\n",
    "                    image[x, y] =0     \n",
    "            #rr = np.array([ i for i in rr if i < image.shape[0]], dtype= np.int64)\n",
    "            #cc = np.array([ i for i in cc if i < image.shape[1]], dtype= np.int64)\n",
    "            #image[rr, cc] = 0\n",
    "        cleanImages.append(image)\n",
    "        plt.show()\n",
    "    return cleanImages            \n",
    "if runBlobdetection:\n",
    "    cleanImagesLocalOstu = removeBlobs(localOstuImages)# decide use localOstuImages or globalOstuImages\n",
    "    cleanImagesGlobalOstu = removeBlobs(globalOstuImages)# decide use localOstuImages or globalOstuImages\n",
    "else:\n",
    "    cleanImagesLocalOstu = localOstuImages\n",
    "    cleanImagesGlobalOstu = globalOstuImages\n",
    "    \n"
   ]
  },
  {
   "cell_type": "markdown",
   "metadata": {},
   "source": [
    "# save the data"
   ]
  },
  {
   "cell_type": "code",
   "execution_count": null,
   "metadata": {
    "collapsed": false
   },
   "outputs": [],
   "source": [
    "for ori , segL, segG, f  in zip( images, localOstuImages,globalOstuImages , names):\n",
    "        \n",
    "    plt.imshow(ori, cmap=plt.cm.gray)\n",
    "    plt.title(f)\n",
    "    plt.show()\n",
    "    plt.imshow(segL, cmap=plt.cm.gray)\n",
    "    plt.title('Local ostu')\n",
    "    plt.show()\n",
    "    plt.imshow(segG, cmap=plt.cm.gray)\n",
    "    plt.title('Global ostu')    \n",
    "    plt.show()\n",
    "    io.imsave(join(dirName,  f[:f.find('.')]+'_LOstuSeg' + '.png'), segL)\n",
    "    io.imsave(join(dirName,  f[:f.find('.')]+'_GOstuSeg' + '.png'), segG)"
   ]
  }
 ],
 "metadata": {
  "kernelspec": {
   "display_name": "Python 2",
   "language": "python",
   "name": "python2"
  },
  "language_info": {
   "codemirror_mode": {
    "name": "ipython",
    "version": 2
   },
   "file_extension": ".py",
   "mimetype": "text/x-python",
   "name": "python",
   "nbconvert_exporter": "python",
   "pygments_lexer": "ipython2",
   "version": "2.7.6"
  }
 },
 "nbformat": 4,
 "nbformat_minor": 0
}
